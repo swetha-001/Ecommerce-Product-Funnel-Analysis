{
 "cells": [
  {
   "cell_type": "markdown",
   "id": "5fc3544c",
   "metadata": {},
   "source": [
    "Dataset : https://www.kaggle.com/datasets/mkechinov/ecommerce-behavior-data-from-multi-category-store/data?select=2019-Oct.csv"
   ]
  },
  {
   "cell_type": "code",
   "execution_count": 1,
   "id": "b52313b1",
   "metadata": {},
   "outputs": [],
   "source": [
    "import pandas as pd"
   ]
  },
  {
   "cell_type": "markdown",
   "id": "cce040fc",
   "metadata": {},
   "source": [
    "#### Load & Inspect the Data"
   ]
  },
  {
   "cell_type": "code",
   "execution_count": 2,
   "id": "f2cfb0ce",
   "metadata": {},
   "outputs": [],
   "source": [
    "data= pd.read_csv(\"C:/Users/sweth/Downloads/2019-Oct.csv\")"
   ]
  },
  {
   "cell_type": "code",
   "execution_count": 3,
   "id": "bfe109cf",
   "metadata": {
    "scrolled": true
   },
   "outputs": [
    {
     "name": "stdout",
     "output_type": "stream",
     "text": [
      "<class 'pandas.core.frame.DataFrame'>\n",
      "RangeIndex: 42448764 entries, 0 to 42448763\n",
      "Data columns (total 9 columns):\n",
      " #   Column         Dtype  \n",
      "---  ------         -----  \n",
      " 0   event_time     object \n",
      " 1   event_type     object \n",
      " 2   product_id     int64  \n",
      " 3   category_id    int64  \n",
      " 4   category_code  object \n",
      " 5   brand          object \n",
      " 6   price          float64\n",
      " 7   user_id        int64  \n",
      " 8   user_session   object \n",
      "dtypes: float64(1), int64(3), object(5)\n",
      "memory usage: 2.8+ GB\n"
     ]
    }
   ],
   "source": [
    "data.info()"
   ]
  },
  {
   "cell_type": "code",
   "execution_count": 4,
   "id": "2dfa9816",
   "metadata": {
    "scrolled": true
   },
   "outputs": [
    {
     "data": {
      "text/plain": [
       "(42448764, 9)"
      ]
     },
     "execution_count": 4,
     "metadata": {},
     "output_type": "execute_result"
    }
   ],
   "source": [
    "data.shape"
   ]
  },
  {
   "cell_type": "code",
   "execution_count": 5,
   "id": "32b0ce11",
   "metadata": {
    "scrolled": true
   },
   "outputs": [
    {
     "data": {
      "text/html": [
       "<div>\n",
       "<style scoped>\n",
       "    .dataframe tbody tr th:only-of-type {\n",
       "        vertical-align: middle;\n",
       "    }\n",
       "\n",
       "    .dataframe tbody tr th {\n",
       "        vertical-align: top;\n",
       "    }\n",
       "\n",
       "    .dataframe thead th {\n",
       "        text-align: right;\n",
       "    }\n",
       "</style>\n",
       "<table border=\"1\" class=\"dataframe\">\n",
       "  <thead>\n",
       "    <tr style=\"text-align: right;\">\n",
       "      <th></th>\n",
       "      <th>event_time</th>\n",
       "      <th>event_type</th>\n",
       "      <th>product_id</th>\n",
       "      <th>category_id</th>\n",
       "      <th>category_code</th>\n",
       "      <th>brand</th>\n",
       "      <th>price</th>\n",
       "      <th>user_id</th>\n",
       "      <th>user_session</th>\n",
       "    </tr>\n",
       "  </thead>\n",
       "  <tbody>\n",
       "    <tr>\n",
       "      <th>0</th>\n",
       "      <td>2019-10-01 00:00:00 UTC</td>\n",
       "      <td>view</td>\n",
       "      <td>44600062</td>\n",
       "      <td>2103807459595387724</td>\n",
       "      <td>NaN</td>\n",
       "      <td>shiseido</td>\n",
       "      <td>35.79</td>\n",
       "      <td>541312140</td>\n",
       "      <td>72d76fde-8bb3-4e00-8c23-a032dfed738c</td>\n",
       "    </tr>\n",
       "    <tr>\n",
       "      <th>1</th>\n",
       "      <td>2019-10-01 00:00:00 UTC</td>\n",
       "      <td>view</td>\n",
       "      <td>3900821</td>\n",
       "      <td>2053013552326770905</td>\n",
       "      <td>appliances.environment.water_heater</td>\n",
       "      <td>aqua</td>\n",
       "      <td>33.20</td>\n",
       "      <td>554748717</td>\n",
       "      <td>9333dfbd-b87a-4708-9857-6336556b0fcc</td>\n",
       "    </tr>\n",
       "    <tr>\n",
       "      <th>2</th>\n",
       "      <td>2019-10-01 00:00:01 UTC</td>\n",
       "      <td>view</td>\n",
       "      <td>17200506</td>\n",
       "      <td>2053013559792632471</td>\n",
       "      <td>furniture.living_room.sofa</td>\n",
       "      <td>NaN</td>\n",
       "      <td>543.10</td>\n",
       "      <td>519107250</td>\n",
       "      <td>566511c2-e2e3-422b-b695-cf8e6e792ca8</td>\n",
       "    </tr>\n",
       "    <tr>\n",
       "      <th>3</th>\n",
       "      <td>2019-10-01 00:00:01 UTC</td>\n",
       "      <td>view</td>\n",
       "      <td>1307067</td>\n",
       "      <td>2053013558920217191</td>\n",
       "      <td>computers.notebook</td>\n",
       "      <td>lenovo</td>\n",
       "      <td>251.74</td>\n",
       "      <td>550050854</td>\n",
       "      <td>7c90fc70-0e80-4590-96f3-13c02c18c713</td>\n",
       "    </tr>\n",
       "    <tr>\n",
       "      <th>4</th>\n",
       "      <td>2019-10-01 00:00:04 UTC</td>\n",
       "      <td>view</td>\n",
       "      <td>1004237</td>\n",
       "      <td>2053013555631882655</td>\n",
       "      <td>electronics.smartphone</td>\n",
       "      <td>apple</td>\n",
       "      <td>1081.98</td>\n",
       "      <td>535871217</td>\n",
       "      <td>c6bd7419-2748-4c56-95b4-8cec9ff8b80d</td>\n",
       "    </tr>\n",
       "  </tbody>\n",
       "</table>\n",
       "</div>"
      ],
      "text/plain": [
       "                event_time event_type  product_id          category_id  \\\n",
       "0  2019-10-01 00:00:00 UTC       view    44600062  2103807459595387724   \n",
       "1  2019-10-01 00:00:00 UTC       view     3900821  2053013552326770905   \n",
       "2  2019-10-01 00:00:01 UTC       view    17200506  2053013559792632471   \n",
       "3  2019-10-01 00:00:01 UTC       view     1307067  2053013558920217191   \n",
       "4  2019-10-01 00:00:04 UTC       view     1004237  2053013555631882655   \n",
       "\n",
       "                         category_code     brand    price    user_id  \\\n",
       "0                                  NaN  shiseido    35.79  541312140   \n",
       "1  appliances.environment.water_heater      aqua    33.20  554748717   \n",
       "2           furniture.living_room.sofa       NaN   543.10  519107250   \n",
       "3                   computers.notebook    lenovo   251.74  550050854   \n",
       "4               electronics.smartphone     apple  1081.98  535871217   \n",
       "\n",
       "                           user_session  \n",
       "0  72d76fde-8bb3-4e00-8c23-a032dfed738c  \n",
       "1  9333dfbd-b87a-4708-9857-6336556b0fcc  \n",
       "2  566511c2-e2e3-422b-b695-cf8e6e792ca8  \n",
       "3  7c90fc70-0e80-4590-96f3-13c02c18c713  \n",
       "4  c6bd7419-2748-4c56-95b4-8cec9ff8b80d  "
      ]
     },
     "execution_count": 5,
     "metadata": {},
     "output_type": "execute_result"
    }
   ],
   "source": [
    "data.head()"
   ]
  },
  {
   "cell_type": "markdown",
   "id": "c4df5c2a",
   "metadata": {},
   "source": [
    "#### Clean & Preprocess the data"
   ]
  },
  {
   "cell_type": "markdown",
   "id": "9912b96c",
   "metadata": {},
   "source": [
    "We'll convert timestamps, sort the data chronologically, and extract useful features like hour and weekday."
   ]
  },
  {
   "cell_type": "code",
   "execution_count": 6,
   "id": "eb088c21",
   "metadata": {
    "scrolled": false
   },
   "outputs": [
    {
     "data": {
      "text/html": [
       "<div>\n",
       "<style scoped>\n",
       "    .dataframe tbody tr th:only-of-type {\n",
       "        vertical-align: middle;\n",
       "    }\n",
       "\n",
       "    .dataframe tbody tr th {\n",
       "        vertical-align: top;\n",
       "    }\n",
       "\n",
       "    .dataframe thead th {\n",
       "        text-align: right;\n",
       "    }\n",
       "</style>\n",
       "<table border=\"1\" class=\"dataframe\">\n",
       "  <thead>\n",
       "    <tr style=\"text-align: right;\">\n",
       "      <th></th>\n",
       "      <th>event_time</th>\n",
       "      <th>hour</th>\n",
       "      <th>day</th>\n",
       "    </tr>\n",
       "  </thead>\n",
       "  <tbody>\n",
       "    <tr>\n",
       "      <th>0</th>\n",
       "      <td>2019-10-01 00:00:00+00:00</td>\n",
       "      <td>0</td>\n",
       "      <td>Tuesday</td>\n",
       "    </tr>\n",
       "    <tr>\n",
       "      <th>1</th>\n",
       "      <td>2019-10-01 00:00:00+00:00</td>\n",
       "      <td>0</td>\n",
       "      <td>Tuesday</td>\n",
       "    </tr>\n",
       "    <tr>\n",
       "      <th>2</th>\n",
       "      <td>2019-10-01 00:00:01+00:00</td>\n",
       "      <td>0</td>\n",
       "      <td>Tuesday</td>\n",
       "    </tr>\n",
       "    <tr>\n",
       "      <th>3</th>\n",
       "      <td>2019-10-01 00:00:01+00:00</td>\n",
       "      <td>0</td>\n",
       "      <td>Tuesday</td>\n",
       "    </tr>\n",
       "    <tr>\n",
       "      <th>4</th>\n",
       "      <td>2019-10-01 00:00:04+00:00</td>\n",
       "      <td>0</td>\n",
       "      <td>Tuesday</td>\n",
       "    </tr>\n",
       "  </tbody>\n",
       "</table>\n",
       "</div>"
      ],
      "text/plain": [
       "                 event_time  hour      day\n",
       "0 2019-10-01 00:00:00+00:00     0  Tuesday\n",
       "1 2019-10-01 00:00:00+00:00     0  Tuesday\n",
       "2 2019-10-01 00:00:01+00:00     0  Tuesday\n",
       "3 2019-10-01 00:00:01+00:00     0  Tuesday\n",
       "4 2019-10-01 00:00:04+00:00     0  Tuesday"
      ]
     },
     "execution_count": 6,
     "metadata": {},
     "output_type": "execute_result"
    }
   ],
   "source": [
    "# Convert timestamp column\n",
    "data['event_time']=pd.to_datetime(data['event_time'])\n",
    "\n",
    "#Sort chronologically \n",
    "data=data.sort_values(by='event_time')\n",
    "\n",
    "#Extract hour & weekday\n",
    "data['hour']=data['event_time'].dt.hour\n",
    "data['day']=data['event_time'].dt.day_name()\n",
    "\n",
    "data[['event_time','hour','day']].head()"
   ]
  },
  {
   "cell_type": "code",
   "execution_count": 8,
   "id": "8e45768d",
   "metadata": {
    "scrolled": true
   },
   "outputs": [
    {
     "name": "stdout",
     "output_type": "stream",
     "text": [
      "<class 'pandas.core.frame.DataFrame'>\n",
      "Index: 42448764 entries, 0 to 42448763\n",
      "Data columns (total 11 columns):\n",
      " #   Column         Dtype              \n",
      "---  ------         -----              \n",
      " 0   event_time     datetime64[ns, UTC]\n",
      " 1   event_type     object             \n",
      " 2   product_id     int64              \n",
      " 3   category_id    int64              \n",
      " 4   category_code  object             \n",
      " 5   brand          object             \n",
      " 6   price          float64            \n",
      " 7   user_id        int64              \n",
      " 8   user_session   object             \n",
      " 9   hour           int32              \n",
      " 10  day            object             \n",
      "dtypes: datetime64[ns, UTC](1), float64(1), int32(1), int64(3), object(5)\n",
      "memory usage: 3.6+ GB\n"
     ]
    }
   ],
   "source": [
    "data.info()"
   ]
  },
  {
   "cell_type": "markdown",
   "id": "e3f0465f",
   "metadata": {},
   "source": [
    "#### Event Funnel Conversion Rate"
   ]
  },
  {
   "cell_type": "markdown",
   "id": "8d0f02c7",
   "metadata": {},
   "source": [
    "We’ll calculate how many users perform each type of event and analyze overall conversion from view → cart → purchase."
   ]
  },
  {
   "cell_type": "code",
   "execution_count": 9,
   "id": "3e5c702e",
   "metadata": {
    "scrolled": true
   },
   "outputs": [
    {
     "data": {
      "text/plain": [
       "event_type\n",
       "view        3022130\n",
       "cart         337117\n",
       "purchase     347118\n",
       "Name: user_id, dtype: int64"
      ]
     },
     "execution_count": 9,
     "metadata": {},
     "output_type": "execute_result"
    }
   ],
   "source": [
    "funnel_counts=data.groupby('event_type')['user_id'].nunique() #unique users per event type\n",
    "funnel_counts=funnel_counts[['view','cart','purchase']] #keeping in order\n",
    "funnel_counts"
   ]
  },
  {
   "cell_type": "code",
   "execution_count": 10,
   "id": "58ccf5b8",
   "metadata": {
    "scrolled": false
   },
   "outputs": [
    {
     "name": "stdout",
     "output_type": "stream",
     "text": [
      "View->Cart:  11.15 %\n",
      "Cart->Purchase:  102.97 %\n",
      "View->Purchase:  11.49 %\n"
     ]
    }
   ],
   "source": [
    "#Conversion rates\n",
    "view_to_cart= funnel_counts['cart']/funnel_counts['view']\n",
    "cart_to_purchase= funnel_counts['purchase']/funnel_counts['cart']\n",
    "view_to_purchase= funnel_counts['purchase']/funnel_counts['view']\n",
    "\n",
    "print(\"View->Cart: \",round(view_to_cart*100,2),\"%\")\n",
    "print(\"Cart->Purchase: \",round(cart_to_purchase*100,2),\"%\")\n",
    "print(\"View->Purchase: \",round(view_to_purchase*100,2),\"%\")"
   ]
  },
  {
   "cell_type": "markdown",
   "id": "c1b45edd",
   "metadata": {},
   "source": [
    "#### Event Distribution over time"
   ]
  },
  {
   "cell_type": "markdown",
   "id": "9d875cda",
   "metadata": {},
   "source": [
    "Let's check how events are distributed across hours of the day."
   ]
  },
  {
   "cell_type": "code",
   "execution_count": 11,
   "id": "fba9278e",
   "metadata": {},
   "outputs": [],
   "source": [
    "import seaborn as sns\n",
    "import matplotlib.pyplot as plt"
   ]
  },
  {
   "cell_type": "code",
   "execution_count": 12,
   "id": "bf0c69e5",
   "metadata": {},
   "outputs": [],
   "source": [
    "data['hour'] = data['hour'].astype('int8') #saving memory"
   ]
  },
  {
   "cell_type": "code",
   "execution_count": 13,
   "id": "9ad1df7e",
   "metadata": {
    "scrolled": false
   },
   "outputs": [
    {
     "data": {
      "image/png": "[encoded data removed]",
      "text/plain": [
       "<Figure size 1200x600 with 1 Axes>"
      ]
     },
     "metadata": {},
     "output_type": "display_data"
    }
   ],
   "source": [
    "plt.figure(figsize=(12,6))\n",
    "sns.countplot(data=data, x='hour', hue='event_type', order=range(24))\n",
    "plt.title(\"Event Types by Hour of Day\")\n",
    "plt.ylabel(\"Count\")\n",
    "plt.xlabel(\"Hour\")\n",
    "plt.legend(title=\"Event Type\")\n",
    "plt.show()"
   ]
  },
  {
   "cell_type": "markdown",
   "id": "b549c1ad",
   "metadata": {},
   "source": [
    "#### Session Funnel Breakdown"
   ]
  },
  {
   "cell_type": "markdown",
   "id": "78faf6eb",
   "metadata": {},
   "source": [
    "We’ll group by session to analyze which combinations of actions occur within sessions."
   ]
  },
  {
   "cell_type": "code",
   "execution_count": 15,
   "id": "7be8eece",
   "metadata": {
    "scrolled": true
   },
   "outputs": [
    {
     "data": {
      "text/plain": [
       "event_type\n",
       "{view}                    8333625\n",
       "{view, purchase}           337121\n",
       "{cart, view, purchase}     291500\n",
       "{cart, view}               280407\n",
       "{cart}                        829\n",
       "{purchase}                    578\n",
       "{cart, purchase}              361\n",
       "Name: count, dtype: int64"
      ]
     },
     "execution_count": 15,
     "metadata": {},
     "output_type": "execute_result"
    }
   ],
   "source": [
    "#set of events per session\n",
    "session_funnels= data.groupby('user_session')['event_type'].apply(set)\n",
    "session_funnels= session_funnels.value_counts()\n",
    "session_funnels"
   ]
  },
  {
   "cell_type": "markdown",
   "id": "b0be241e",
   "metadata": {},
   "source": [
    "#### Product Funnel Breakdown by Category"
   ]
  },
  {
   "cell_type": "markdown",
   "id": "ac2a3e93",
   "metadata": {},
   "source": [
    "Going beyond top-level funnel metrics and exploring which product categories are converting well or poorly. \n",
    "This helps identify high-leverage areas for product or marketing teams to focus on."
   ]
  },
  {
   "cell_type": "code",
   "execution_count": 16,
   "id": "60cc7f70",
   "metadata": {},
   "outputs": [],
   "source": [
    "category_funnel= data.groupby(['category_code','event_type'])['user_id'].nunique().unstack().fillna(0)\n",
    "\n",
    "#unstack() : This pivots the inner index level (event_type) to columns, turning the Series into a DataFrame."
   ]
  },
  {
   "cell_type": "code",
   "execution_count": 17,
   "id": "b5795da1",
   "metadata": {
    "scrolled": true
   },
   "outputs": [
    {
     "data": {
      "text/html": [
       "<div>\n",
       "<style scoped>\n",
       "    .dataframe tbody tr th:only-of-type {\n",
       "        vertical-align: middle;\n",
       "    }\n",
       "\n",
       "    .dataframe tbody tr th {\n",
       "        vertical-align: top;\n",
       "    }\n",
       "\n",
       "    .dataframe thead th {\n",
       "        text-align: right;\n",
       "    }\n",
       "</style>\n",
       "<table border=\"1\" class=\"dataframe\">\n",
       "  <thead>\n",
       "    <tr style=\"text-align: right;\">\n",
       "      <th>event_type</th>\n",
       "      <th>view</th>\n",
       "      <th>cart</th>\n",
       "      <th>purchase</th>\n",
       "      <th>view_to_cart</th>\n",
       "      <th>cart_to_purchase</th>\n",
       "      <th>view_to_purchase</th>\n",
       "    </tr>\n",
       "    <tr>\n",
       "      <th>category_code</th>\n",
       "      <th></th>\n",
       "      <th></th>\n",
       "      <th></th>\n",
       "      <th></th>\n",
       "      <th></th>\n",
       "      <th></th>\n",
       "    </tr>\n",
       "  </thead>\n",
       "  <tbody>\n",
       "    <tr>\n",
       "      <th>electronics.smartphone</th>\n",
       "      <td>1300070.0</td>\n",
       "      <td>198347.0</td>\n",
       "      <td>160437.0</td>\n",
       "      <td>0.152566</td>\n",
       "      <td>0.808870</td>\n",
       "      <td>0.123406</td>\n",
       "    </tr>\n",
       "    <tr>\n",
       "      <th>appliances.iron</th>\n",
       "      <td>29626.0</td>\n",
       "      <td>2199.0</td>\n",
       "      <td>2948.0</td>\n",
       "      <td>0.074225</td>\n",
       "      <td>1.340609</td>\n",
       "      <td>0.099507</td>\n",
       "    </tr>\n",
       "    <tr>\n",
       "      <th>appliances.environment.air_heater</th>\n",
       "      <td>19033.0</td>\n",
       "      <td>1322.0</td>\n",
       "      <td>1819.0</td>\n",
       "      <td>0.069458</td>\n",
       "      <td>1.375946</td>\n",
       "      <td>0.095571</td>\n",
       "    </tr>\n",
       "    <tr>\n",
       "      <th>appliances.environment.water_heater</th>\n",
       "      <td>23744.0</td>\n",
       "      <td>1813.0</td>\n",
       "      <td>2132.0</td>\n",
       "      <td>0.076356</td>\n",
       "      <td>1.175951</td>\n",
       "      <td>0.089791</td>\n",
       "    </tr>\n",
       "    <tr>\n",
       "      <th>electronics.audio.headphone</th>\n",
       "      <td>213948.0</td>\n",
       "      <td>22482.0</td>\n",
       "      <td>18826.0</td>\n",
       "      <td>0.105082</td>\n",
       "      <td>0.837381</td>\n",
       "      <td>0.087993</td>\n",
       "    </tr>\n",
       "    <tr>\n",
       "      <th>appliances.kitchen.microwave</th>\n",
       "      <td>35935.0</td>\n",
       "      <td>2543.0</td>\n",
       "      <td>2949.0</td>\n",
       "      <td>0.070767</td>\n",
       "      <td>1.159654</td>\n",
       "      <td>0.082065</td>\n",
       "    </tr>\n",
       "    <tr>\n",
       "      <th>appliances.personal.scales</th>\n",
       "      <td>13458.0</td>\n",
       "      <td>819.0</td>\n",
       "      <td>1083.0</td>\n",
       "      <td>0.060856</td>\n",
       "      <td>1.322344</td>\n",
       "      <td>0.080473</td>\n",
       "    </tr>\n",
       "    <tr>\n",
       "      <th>appliances.kitchen.washer</th>\n",
       "      <td>132028.0</td>\n",
       "      <td>9948.0</td>\n",
       "      <td>10480.0</td>\n",
       "      <td>0.075348</td>\n",
       "      <td>1.053478</td>\n",
       "      <td>0.079377</td>\n",
       "    </tr>\n",
       "    <tr>\n",
       "      <th>electronics.video.tv</th>\n",
       "      <td>170044.0</td>\n",
       "      <td>16672.0</td>\n",
       "      <td>13476.0</td>\n",
       "      <td>0.098045</td>\n",
       "      <td>0.808301</td>\n",
       "      <td>0.079250</td>\n",
       "    </tr>\n",
       "    <tr>\n",
       "      <th>medicine.tools.tonometer</th>\n",
       "      <td>3437.0</td>\n",
       "      <td>270.0</td>\n",
       "      <td>264.0</td>\n",
       "      <td>0.078557</td>\n",
       "      <td>0.977778</td>\n",
       "      <td>0.076811</td>\n",
       "    </tr>\n",
       "  </tbody>\n",
       "</table>\n",
       "</div>"
      ],
      "text/plain": [
       "event_type                                view      cart  purchase  \\\n",
       "category_code                                                        \n",
       "electronics.smartphone               1300070.0  198347.0  160437.0   \n",
       "appliances.iron                        29626.0    2199.0    2948.0   \n",
       "appliances.environment.air_heater      19033.0    1322.0    1819.0   \n",
       "appliances.environment.water_heater    23744.0    1813.0    2132.0   \n",
       "electronics.audio.headphone           213948.0   22482.0   18826.0   \n",
       "appliances.kitchen.microwave           35935.0    2543.0    2949.0   \n",
       "appliances.personal.scales             13458.0     819.0    1083.0   \n",
       "appliances.kitchen.washer             132028.0    9948.0   10480.0   \n",
       "electronics.video.tv                  170044.0   16672.0   13476.0   \n",
       "medicine.tools.tonometer                3437.0     270.0     264.0   \n",
       "\n",
       "event_type                           view_to_cart  cart_to_purchase  \\\n",
       "category_code                                                         \n",
       "electronics.smartphone                   0.152566          0.808870   \n",
       "appliances.iron                          0.074225          1.340609   \n",
       "appliances.environment.air_heater        0.069458          1.375946   \n",
       "appliances.environment.water_heater      0.076356          1.175951   \n",
       "electronics.audio.headphone              0.105082          0.837381   \n",
       "appliances.kitchen.microwave             0.070767          1.159654   \n",
       "appliances.personal.scales               0.060856          1.322344   \n",
       "appliances.kitchen.washer                0.075348          1.053478   \n",
       "electronics.video.tv                     0.098045          0.808301   \n",
       "medicine.tools.tonometer                 0.078557          0.977778   \n",
       "\n",
       "event_type                           view_to_purchase  \n",
       "category_code                                          \n",
       "electronics.smartphone                       0.123406  \n",
       "appliances.iron                              0.099507  \n",
       "appliances.environment.air_heater            0.095571  \n",
       "appliances.environment.water_heater          0.089791  \n",
       "electronics.audio.headphone                  0.087993  \n",
       "appliances.kitchen.microwave                 0.082065  \n",
       "appliances.personal.scales                   0.080473  \n",
       "appliances.kitchen.washer                    0.079377  \n",
       "electronics.video.tv                         0.079250  \n",
       "medicine.tools.tonometer                     0.076811  "
      ]
     },
     "execution_count": 17,
     "metadata": {},
     "output_type": "execute_result"
    }
   ],
   "source": [
    "#Category level conversion\n",
    "\n",
    "category_funnel['view_to_cart']=category_funnel['cart']/category_funnel['view']\n",
    "category_funnel['cart_to_purchase']=category_funnel['purchase']/category_funnel['cart']\n",
    "category_funnel['view_to_purchase']=category_funnel['purchase']/category_funnel['view']\n",
    "\n",
    "#sort\n",
    "category_funnel=category_funnel.sort_values(by='view_to_purchase',ascending=False)\n",
    "category_funnel[['view','cart','purchase','view_to_cart','cart_to_purchase','view_to_purchase']].head(10)"
   ]
  },
  {
   "cell_type": "markdown",
   "id": "3601bf4b",
   "metadata": {},
   "source": [
    "#### Key Visualizations"
   ]
  },
  {
   "cell_type": "markdown",
   "id": "9e27dbbc",
   "metadata": {},
   "source": [
    "To help stakeholders interpret the analysis quickly, we’ll visualize:\n",
    "1. Top product categories by conversion\n",
    "2. Purchase activity by hour of day"
   ]
  },
  {
   "cell_type": "code",
   "execution_count": 28,
   "id": "2d6391b7",
   "metadata": {
    "scrolled": false
   },
   "outputs": [
    {
     "data": {
      "image/png": "[encoded data removed]",
      "text/plain": [
       "<Figure size 1200x600 with 1 Axes>"
      ]
     },
     "metadata": {},
     "output_type": "display_data"
    }
   ],
   "source": [
    "top_cats=category_funnel.sort_values(by='view_to_purchase',ascending=False).head(10)\n",
    "\n",
    "plt.figure(figsize=(12,6))\n",
    "sns.barplot(data=top_cats,x=top_cats.index,y=top_cats['view_to_purchase'],hue='category_code')\n",
    "plt.xlabel('Product Category')\n",
    "plt.ylabel('Conversion Rate')\n",
    "plt.title('Top 10 categories by view to purchase conversion rate')\n",
    "plt.xticks(rotation=45,ha='right')\n",
    "plt.tight_layout()\n",
    "plt.show()"
   ]
  },
  {
   "cell_type": "code",
   "execution_count": 32,
   "id": "bde69f7e",
   "metadata": {
    "scrolled": false
   },
   "outputs": [
    {
     "data": {
      "image/png": "[encoded data removed]",
      "text/plain": [
       "<Figure size 1200x600 with 1 Axes>"
      ]
     },
     "metadata": {},
     "output_type": "display_data"
    }
   ],
   "source": [
    "purchase_df = data[data['event_type'] == 'purchase']\n",
    "\n",
    "plt.figure(figsize=(12,6))\n",
    "sns.countplot(x='hour', data=purchase_df)\n",
    "plt.title('Purchases by Hour')\n",
    "plt.xlabel('Hour of Day')\n",
    "plt.ylabel('Number of Purchases')\n",
    "plt.show()"
   ]
  }
 ],
 "metadata": {
  "kernelspec": {
   "display_name": "Python 3 (ipykernel)",
   "language": "python",
   "name": "python3"
  },
  "language_info": {
   "codemirror_mode": {
    "name": "ipython",
    "version": 3
   },
   "file_extension": ".py",
   "mimetype": "text/x-python",
   "name": "python",
   "nbconvert_exporter": "python",
   "pygments_lexer": "ipython3",
   "version": "3.9.1"
  }
 },
 "nbformat": 4,
 "nbformat_minor": 5
}
